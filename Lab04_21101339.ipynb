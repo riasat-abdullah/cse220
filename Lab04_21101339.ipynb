{
  "nbformat": 4,
  "nbformat_minor": 0,
  "metadata": {
    "colab": {
      "provenance": []
    },
    "kernelspec": {
      "name": "python3",
      "display_name": "Python 3"
    },
    "language_info": {
      "name": "python"
    }
  },
  "cells": [
    {
      "cell_type": "code",
      "execution_count": null,
      "metadata": {
        "colab": {
          "base_uri": "https://localhost:8080/"
        },
        "id": "Wowcsu4AivN3",
        "outputId": "2ee13752-7388-4923-a72b-46e251f4f83d"
      },
      "outputs": [
        {
          "output_type": "stream",
          "name": "stdout",
          "text": [
            "Success\n",
            "XYZ\n",
            "Success\n",
            "Success\n",
            "None\n",
            "Success\n",
            "Success\n",
            "Yes\n",
            "None\n",
            "None\n"
          ]
        }
      ],
      "source": [
        "class Patient:\n",
        "  def __init__(self,id,nm,ag,bg,next=None,prev=None):\n",
        "    self.id=id\n",
        "    self.name=nm\n",
        "    self.age=ag\n",
        "    self.blood_group=bg\n",
        "    self.next=next\n",
        "    self.prev=prev\n",
        "class WRM:\n",
        "  def __init__(self):\n",
        "    self.dh=Patient(None,None,None,None,None,None)\n",
        "    self.dh.next=self.dh\n",
        "    self.dh.prev=self.dh\n",
        "    self.tail=self.dh\n",
        "  def RegisterPatient(self,id, name, age, bloodgroup):\n",
        "    pt=Patient(id, name, age, bloodgroup, self.dh, self.tail)\n",
        "    self.tail.next=pt\n",
        "    self.tail=self.tail.next\n",
        "    self.dh.prev=self.tail\n",
        "    print(\"Success\")\n",
        "  def ServePatient(self):\n",
        "    print(self.dh.next.name)\n",
        "    self.dh.next=self.dh.next.next\n",
        "    self.dh.next.next.prev=self.dh\n",
        "  def CancelAll(self):\n",
        "    self.dh.next=self.dh\n",
        "    self.dh.prev=self.dh\n",
        "    print(\"Success\")\n",
        "  def CanDoctorGoHome(self):\n",
        "    if self.dh.next==self.dh:\n",
        "      return True\n",
        "    else:\n",
        "      return False\n",
        "  def ShowAllPatient(self):\n",
        "    temp=self.dh.next\n",
        "    while temp!=self.dh:\n",
        "      print(temp.id)\n",
        "      temp=temp.next\n",
        "room=WRM()\n",
        "p1=room.RegisterPatient(1, \"XYZ\", 20, \"O+ve\")\n",
        "room.ServePatient()\n",
        "room.ShowAllPatient()\n",
        "room.CancelAll()\n",
        "p2=room.RegisterPatient(\"ABC\",2,30,\"B+ve\")\n",
        "room.ServePatient()\n",
        "room.ShowAllPatient()\n",
        "room.CanDoctorGoHome()\n",
        "#room.CancelAll()\n",
        "p3=room.RegisterPatient(\"BCD\",3,15,\"A+ve\")\n",
        "p2=room.RegisterPatient(\"HIJ\",4,35,\"AB+ve\")\n",
        "stat=room.CanDoctorGoHome()\n",
        "if stat==True:\n",
        "  print(\"Yes\")\n",
        "else:\n",
        "  print(\"False\")\n",
        "room.ShowAllPatient()\n",
        "room.ServePatient()\n",
        "room.ServePatient()"
      ]
    }
  ]
}