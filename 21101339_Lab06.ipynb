{
  "nbformat": 4,
  "nbformat_minor": 0,
  "metadata": {
    "colab": {
      "provenance": []
    },
    "kernelspec": {
      "name": "python3",
      "display_name": "Python 3"
    },
    "language_info": {
      "name": "python"
    }
  },
  "cells": [
    {
      "cell_type": "code",
      "source": [
        "#1.a\n",
        "def factorial_recursive(n):\n",
        "    if n == 0 or n == 1:\n",
        "        return 1\n",
        "    else:\n",
        "        return n *factorial_recursive(n - 1)\n",
        "\n",
        "print(factorial_recursive(5))\n",
        "print(factorial_recursive(10))\n",
        "print(factorial_recursive(15))\n",
        "\n"
      ],
      "metadata": {
        "colab": {
          "base_uri": "https://localhost:8080/"
        },
        "id": "BTYcQLmitF3g",
        "outputId": "507e601d-5495-4763-c9ba-b4de8262f002"
      },
      "execution_count": 2,
      "outputs": [
        {
          "output_type": "stream",
          "name": "stdout",
          "text": [
            "120\n",
            "3628800\n",
            "1307674368000\n"
          ]
        }
      ]
    },
    {
      "cell_type": "code",
      "source": [
        "#b\n",
        "def fibonacci_recursive(n):\n",
        "    if n <= 0:\n",
        "        return 0\n",
        "    elif n == 1:\n",
        "        return 1\n",
        "    else:\n",
        "        return fibonacci_recursive_helper(n, 0, 1)\n",
        "\n",
        "def fibonacci_recursive_helper(n, a, b):\n",
        "    if n == 0:\n",
        "        return a\n",
        "    else:\n",
        "        return fibonacci_recursive_helper(n - 1, b, a + b)\n",
        "\n",
        "print(fibonacci_recursive(5))\n",
        "print(fibonacci_recursive(10))\n",
        "print(fibonacci_recursive(15))\n",
        "\n"
      ],
      "metadata": {
        "colab": {
          "base_uri": "https://localhost:8080/"
        },
        "id": "Wke6pReltGLJ",
        "outputId": "13968f12-7229-4cc2-dfca-978b3d0e3572"
      },
      "execution_count": 9,
      "outputs": [
        {
          "output_type": "stream",
          "name": "stdout",
          "text": [
            "5\n",
            "55\n",
            "610\n"
          ]
        }
      ]
    },
    {
      "cell_type": "code",
      "source": [
        "#c\n",
        "def custom_fibonacci_recursive(n, i, a, b):\n",
        "    if i < n:\n",
        "        print(a)\n",
        "        custom_fibonacci_recursive(n, i + 1, b, a + b)\n",
        "\n",
        "n = 10  # The number of Fibonacci numbers you want to generate\n",
        "custom_fibonacci_recursive(n, 0, 0, 1)\n"
      ],
      "metadata": {
        "id": "eKRyuO46hXQe",
        "colab": {
          "base_uri": "https://localhost:8080/"
        },
        "outputId": "3486d198-17d0-411c-a23c-2e11b42e016a"
      },
      "execution_count": 12,
      "outputs": [
        {
          "output_type": "stream",
          "name": "stdout",
          "text": [
            "0\n",
            "1\n",
            "1\n",
            "2\n",
            "3\n",
            "5\n",
            "8\n",
            "13\n",
            "21\n",
            "34\n"
          ]
        }
      ]
    },
    {
      "cell_type": "code",
      "source": [
        "#d\n",
        "def powerN_recursive(n, i, result=1):\n",
        "    if i == 0:\n",
        "        return result\n",
        "    else:\n",
        "        return powerN_recursive(n, i - 1, n * result)\n",
        "\n",
        "print(powerN_recursive(3, 1))\n",
        "print(powerN_recursive(3, 2))\n",
        "print(powerN_recursive(3, 3))\n",
        "\n"
      ],
      "metadata": {
        "colab": {
          "base_uri": "https://localhost:8080/"
        },
        "id": "xzibyVG3m4fj",
        "outputId": "f3a11af5-ba6b-451e-f1da-a8d206b75d1c"
      },
      "execution_count": 14,
      "outputs": [
        {
          "output_type": "stream",
          "name": "stdout",
          "text": [
            "3\n",
            "9\n",
            "27\n"
          ]
        }
      ]
    },
    {
      "cell_type": "code",
      "source": [
        "#2.a\n",
        "def decimal_to_binary_recursive(n):\n",
        "    if n == 0:\n",
        "        return \"0\"\n",
        "    elif n == 1:\n",
        "        return \"1\"\n",
        "    else:\n",
        "        return decimal_to_binary_recursive(n // 2) + str(n % 2)\n",
        "\n",
        "print(decimal_to_binary_recursive(0))\n",
        "print(decimal_to_binary_recursive(5))\n",
        "print(decimal_to_binary_recursive(10))\n",
        "print(decimal_to_binary_recursive(15))\n",
        "\n"
      ],
      "metadata": {
        "colab": {
          "base_uri": "https://localhost:8080/"
        },
        "id": "0aipFmJCuXVd",
        "outputId": "04d20df0-f3ca-4d95-efa4-61a31775b145"
      },
      "execution_count": 16,
      "outputs": [
        {
          "output_type": "stream",
          "name": "stdout",
          "text": [
            "0\n",
            "101\n",
            "1010\n",
            "1111\n"
          ]
        }
      ]
    },
    {
      "cell_type": "code",
      "source": [
        "#b\n",
        "class Node:\n",
        "    def __init__(self, value, next=None):\n",
        "        self.value = value\n",
        "        self.next = next\n",
        "\n",
        "def linked_sum_recursive(node):\n",
        "    if node is None:\n",
        "        return 0\n",
        "    else:\n",
        "        return node.value + linked_sum_recursive(node.next)\n",
        "\n",
        "head = Node(1, Node(2, Node(3, Node(4, None))))\n",
        "print(linked_sum_recursive(head))\n"
      ],
      "metadata": {
        "colab": {
          "base_uri": "https://localhost:8080/"
        },
        "id": "yEM6XSWuuXdX",
        "outputId": "8248b25a-80b3-4cf8-ebbf-1727bee493f2"
      },
      "execution_count": 18,
      "outputs": [
        {
          "output_type": "stream",
          "name": "stdout",
          "text": [
            "10\n"
          ]
        }
      ]
    },
    {
      "cell_type": "code",
      "source": [
        "#c\n",
        "class Node:\n",
        "    def __init__(self, val=None, next=None):\n",
        "        self.val = val\n",
        "        self.next = next\n",
        "\n",
        "def reverse_print_recursive(node):\n",
        "    if node is None:\n",
        "        return\n",
        "    else:\n",
        "       reverse_print_recursive(node.next)\n",
        "       print(node.val)\n",
        "\n",
        "n3 = Node(40, None)\n",
        "n2 = Node(30, n3)\n",
        "n1 = Node(20, n2)\n",
        "head = Node(10, n1)\n",
        "\n",
        "reverse_print_recursive(head)\n"
      ],
      "metadata": {
        "colab": {
          "base_uri": "https://localhost:8080/"
        },
        "id": "TCCQsGN6uPLy",
        "outputId": "3af22ce5-dfeb-43e1-e544-86a8e1472747"
      },
      "execution_count": 20,
      "outputs": [
        {
          "output_type": "stream",
          "name": "stdout",
          "text": [
            "40\n",
            "30\n",
            "20\n",
            "10\n"
          ]
        }
      ]
    },
    {
      "cell_type": "code",
      "source": [
        "#3.\n",
        "def hocBuilder(height, current=0):\n",
        "    if current == height:\n",
        "        return 0\n",
        "    else:\n",
        "        return 5 + hocBuilder(height, current + 1)\n",
        "\n",
        "height = 3\n",
        "print(hocBuilder(height))\n"
      ],
      "metadata": {
        "colab": {
          "base_uri": "https://localhost:8080/"
        },
        "id": "kAp3K5OxvZDU",
        "outputId": "7be68ab3-00d0-462d-873d-e62d1a9aaa34"
      },
      "execution_count": 22,
      "outputs": [
        {
          "output_type": "stream",
          "name": "stdout",
          "text": [
            "15\n"
          ]
        }
      ]
    },
    {
      "cell_type": "code",
      "source": [
        "#4.a\n",
        "def pattern_a_recursive(n, i=1):\n",
        "    if i > n:\n",
        "        return\n",
        "    print_range(1, i)\n",
        "    print()  # Print a newline after each row\n",
        "    pattern_a_recursive(n, i + 1)\n",
        "\n",
        "def print_range(start, end):\n",
        "    if start > end:\n",
        "        return\n",
        "    print(start, end=\" \")\n",
        "    print_range(start + 1, end)\n",
        "\n",
        "pattern_a_recursive(5)\n"
      ],
      "metadata": {
        "colab": {
          "base_uri": "https://localhost:8080/"
        },
        "id": "f_xXoRJRx2_A",
        "outputId": "06520236-7386-4fa1-ac0c-8a36008aba82"
      },
      "execution_count": 25,
      "outputs": [
        {
          "output_type": "stream",
          "name": "stdout",
          "text": [
            "1 \n",
            "1 2 \n",
            "1 2 3 \n",
            "1 2 3 4 \n",
            "1 2 3 4 5 \n"
          ]
        }
      ]
    },
    {
      "cell_type": "code",
      "source": [
        "#b\n",
        "def pattern_b_recursive(n, i=1, spaces=0):\n",
        "    if i <= n:\n",
        "        pattern_b_recursive(n, i + 1, spaces - 2)\n",
        "        print_spaces(spaces)\n",
        "        print_range(1, i)\n",
        "        print()\n",
        "\n",
        "def print_spaces(count):\n",
        "    if count > 0:\n",
        "        print(\" \", end=\"\")\n",
        "        print_spaces(count - 1)\n",
        "\n",
        "def print_range(start, end):\n",
        "    if start <= end:\n",
        "        print(start, end=\" \")\n",
        "        print_range(start + 1, end)\n",
        "\n",
        "pattern_b_recursive(5)\n",
        "\n"
      ],
      "metadata": {
        "colab": {
          "base_uri": "https://localhost:8080/"
        },
        "id": "nQT7DM4SyHva",
        "outputId": "07e08868-a60e-48c7-c3c8-dd79938a52c7"
      },
      "execution_count": 36,
      "outputs": [
        {
          "output_type": "stream",
          "name": "stdout",
          "text": [
            "1 2 3 4 5 \n",
            "1 2 3 4 \n",
            "1 2 3 \n",
            "1 2 \n",
            "1 \n"
          ]
        }
      ]
    },
    {
      "cell_type": "code",
      "source": [
        "#5\n",
        "class FinalQ:\n",
        "    def print_recursive(self, array, idx):\n",
        "        if idx < len(array):\n",
        "            investment = array[idx]\n",
        "            profit = self.calc_profit_recursive(investment)\n",
        "            print(\"Investment:\", investment, \"Profit:\", float(profit))\n",
        "            self.print_recursive(array, idx + 1)\n",
        "\n",
        "    def calc_profit_recursive(self, investment):\n",
        "        if investment == 25000:\n",
        "            return 0\n",
        "        elif investment > 25000 and investment <= 100000:\n",
        "            return self.calc_profit_recursive(investment - 1000) + 45\n",
        "        elif investment > 100000:\n",
        "            return self.calc_profit_recursive(investment - 1000) + 80\n",
        "\n",
        "array = [25000, 100000, 250000, 350000]\n",
        "f = FinalQ()\n",
        "f.print_recursive(array, 0)\n"
      ],
      "metadata": {
        "id": "KSUnBDk6z7ka"
      },
      "execution_count": null,
      "outputs": []
    },
    {
      "cell_type": "code",
      "source": [
        "#Class_Work"
      ],
      "metadata": {
        "id": "49p-BmaHtxjN"
      },
      "execution_count": null,
      "outputs": []
    },
    {
      "cell_type": "code",
      "source": [
        "class Node:\n",
        "    def __init__(self, next=None, bottom=None, val=None):\n",
        "        self.next = next\n",
        "        self.bottom = bottom\n",
        "        self.val = val\n",
        "\n",
        "def flatten_list_recursive(given_list, output_list):\n",
        "    if given_list is None:\n",
        "        return output_list\n",
        "\n",
        "    if isinstance(given_list, list):\n",
        "        index = 0\n",
        "        return flatten_list_recursive_helper(given_list, index, output_list)\n",
        "    elif isinstance(given_list, Node):\n",
        "        return flatten_node_recursive(given_list, output_list)\n",
        "    else:\n",
        "        output_list.append(given_list)\n",
        "        return output_list\n",
        "\n",
        "def flatten_list_recursive_helper(given_list, index, output_list):\n",
        "    if index < len(given_list):\n",
        "        output_list = flatten_list_recursive(given_list[index], output_list)\n",
        "        return flatten_list_recursive_helper(given_list, index + 1, output_list)\n",
        "    else:\n",
        "        return output_list\n",
        "\n",
        "def custom_flatten_node_recursive(node, output_list):\n",
        "    while node is not None:\n",
        "        output_list.append(node.val)\n",
        "        output_list =flatten_list_recursive(node.bottom, output_list)\n",
        "        node = node.next\n",
        "    return output_list\n",
        "\n",
        "given_list = [1, [2, [3, [4], 5], 6], 7, 8, [9, [[10, 11], 12], 13], 14, [15, [16, [17]]]]\n",
        "output_list = flatten_list_recursive(given_list, [])\n",
        "print(output_list)\n"
      ],
      "metadata": {
        "colab": {
          "base_uri": "https://localhost:8080/"
        },
        "id": "7YgiBuF0r1kl",
        "outputId": "940bc8a2-a57e-4860-8e6e-4c2fa2bae09b"
      },
      "execution_count": 38,
      "outputs": [
        {
          "output_type": "stream",
          "name": "stdout",
          "text": [
            "[1, 2, 3, 4, 5, 6, 7, 8, 9, 10, 11, 12, 13, 14, 15, 16, 17]\n"
          ]
        }
      ]
    }
  ]
}